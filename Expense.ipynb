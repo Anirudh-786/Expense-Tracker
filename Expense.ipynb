{
 "cells": [
  {
   "cell_type": "markdown",
   "id": "e1d50846-90ef-4f25-9c83-05c44643398d",
   "metadata": {},
   "source": [
    "# Expense Tracker"
   ]
  },
  {
   "cell_type": "markdown",
   "id": "04b25c87-b0f3-4946-9e76-1899c57d8bab",
   "metadata": {},
   "source": [
    "Target- 600 subsribers- 25 subs "
   ]
  },
  {
   "cell_type": "markdown",
   "id": "8563576e-81c7-411f-99ce-0d6b97216c18",
   "metadata": {},
   "source": [
    "- input- Category, product, amount\n",
    "- ouput- expenses\n",
    "- operations-\n",
    "1. Add Expense\n",
    "2. Show Expense\n",
    "3. Exit"
   ]
  },
  {
   "cell_type": "code",
   "execution_count": null,
   "id": "dbaf86d0-6790-42a5-9b67-475bb94756d6",
   "metadata": {},
   "outputs": [],
   "source": [
    "[[pen, stationary,100],[scale, stationary, 50]\n",
    "\n",
    "- squence\n",
    "Concept- Nested Sequence (List)"
   ]
  },
  {
   "cell_type": "code",
   "execution_count": 13,
   "id": "9b80bc86-d5f0-49d2-b87c-bd2db1bb3979",
   "metadata": {},
   "outputs": [
    {
     "name": "stdout",
     "output_type": "stream",
     "text": [
      "21\n"
     ]
    }
   ],
   "source": [
    "l=[1,2,[1,21,13]]\n",
    "print(l[2][1])"
   ]
  },
  {
   "cell_type": "markdown",
   "id": "c3537169-ea06-42f6-98d6-b67e62fbf654",
   "metadata": {},
   "source": [
    "### PythonConcept\n",
    "- Functions\n",
    "- List\n",
    "- loops"
   ]
  },
  {
   "cell_type": "code",
   "execution_count": null,
   "id": "f9bacd50-7be7-4f24-bb36-7fa5a8f98d3f",
   "metadata": {},
   "outputs": [
    {
     "name": "stdout",
     "output_type": "stream",
     "text": [
      "---------------------------------\n",
      "Operation:\n",
      "1. Add Expense\n",
      "2. Show Expense\n",
      "3. Exit\n",
      "---------------------------------\n"
     ]
    },
    {
     "name": "stdin",
     "output_type": "stream",
     "text": [
      "Enter your Choice 1\n"
     ]
    },
    {
     "name": "stdout",
     "output_type": "stream",
     "text": [
      "Add Expense\n",
      "---------------------------------\n"
     ]
    },
    {
     "name": "stdin",
     "output_type": "stream",
     "text": [
      "Enter Date 20-sep-2025\n",
      "enter Product Name TV\n",
      "enter ammount of Product 40000\n",
      "enter Category Electronic\n"
     ]
    },
    {
     "name": "stdout",
     "output_type": "stream",
     "text": [
      "Expense Tracker Updated!\n",
      "---------------------------------\n",
      "---------------------------------\n",
      "Operation:\n",
      "1. Add Expense\n",
      "2. Show Expense\n",
      "3. Exit\n",
      "---------------------------------\n"
     ]
    },
    {
     "name": "stdin",
     "output_type": "stream",
     "text": [
      "Enter your Choice 1\n"
     ]
    },
    {
     "name": "stdout",
     "output_type": "stream",
     "text": [
      "Add Expense\n",
      "---------------------------------\n"
     ]
    },
    {
     "name": "stdin",
     "output_type": "stream",
     "text": [
      "Enter Date Lights\n",
      "enter Product Name Lights\n",
      "enter ammount of Product 3000\n",
      "enter Category Electricals\n"
     ]
    },
    {
     "name": "stdout",
     "output_type": "stream",
     "text": [
      "Expense Tracker Updated!\n",
      "---------------------------------\n",
      "---------------------------------\n",
      "Operation:\n",
      "1. Add Expense\n",
      "2. Show Expense\n",
      "3. Exit\n",
      "---------------------------------\n"
     ]
    },
    {
     "name": "stdin",
     "output_type": "stream",
     "text": [
      "Enter your Choice 2\n"
     ]
    },
    {
     "name": "stdout",
     "output_type": "stream",
     "text": [
      "\n",
      "---------------------------------\n",
      "          Expense Tracker\n",
      "---------------------------------\n",
      "\n",
      "1 - 20-sep-2025 TV 40000 Electronic\n",
      "2 - Lights Lights 3000 Electricals\n",
      "---------------------------------\n",
      "Operation:\n",
      "1. Add Expense\n",
      "2. Show Expense\n",
      "3. Exit\n",
      "---------------------------------\n"
     ]
    }
   ],
   "source": [
    "expenses=[]\n",
    "def show():\n",
    "    print(\"\\n---------------------------------\") \n",
    "    print(\"          Expense Tracker\")\n",
    "    print(\"---------------------------------\\n\") \n",
    "    if not expenses:\n",
    "        print(\"No Expense Record Yet\")\n",
    "    else:\n",
    "        for i in range(len(expenses)):\n",
    "            print(i+1,\"-\",expenses[i][0],expenses[i][1],expenses[i][2],expenses[i][3])\n",
    "\n",
    "def expenseTracker():\n",
    " while True:\n",
    "    print(\"---------------------------------\")  \n",
    "    print(\"Operation:\")\n",
    "    print(\"1. Add Expense\")\n",
    "    print(\"2. Show Expense\")\n",
    "    print(\"3. Exit\")\n",
    "    print(\"---------------------------------\") \n",
    "    ch=int(input(\"Enter your Choice\"))\n",
    "    if(ch==1):\n",
    "        # add expense\n",
    "        print(\"Add Expense\")\n",
    "        print(\"---------------------------------\") \n",
    "        date=input(\"Enter Date\")\n",
    "        product=input(\"enter Product Name\")\n",
    "        ammount=input(\"enter ammount of Product\")\n",
    "        category=input(\"enter Category\")\n",
    "        expenses.append( [date,product, ammount, category])\n",
    "        print(\"Expense Tracker Updated!\")\n",
    "        print(\"---------------------------------\") \n",
    "    elif(ch==2):\n",
    "        show()\n",
    "    elif(ch==3):\n",
    "        print(\"Exited\")\n",
    "        print(\"---------------------------------\") \n",
    "        break\n",
    "        \n",
    "    else:\n",
    "        print(\"Entered number is Invalid\")\n",
    "        print(\"---------------------------------\") \n",
    "        \n",
    "expenseTracker()   "
   ]
  },
  {
   "cell_type": "code",
   "execution_count": null,
   "id": "0cf8c9e4-9fbe-43a7-a823-53706af256e9",
   "metadata": {},
   "outputs": [],
   "source": []
  },
  {
   "cell_type": "code",
   "execution_count": null,
   "id": "6d8c6d9f-e2d1-4f0a-b742-6061e667005c",
   "metadata": {},
   "outputs": [],
   "source": []
  }
 ],
 "metadata": {
  "kernelspec": {
   "display_name": "Python [conda env:base] *",
   "language": "python",
   "name": "conda-base-py"
  },
  "language_info": {
   "codemirror_mode": {
    "name": "ipython",
    "version": 3
   },
   "file_extension": ".py",
   "mimetype": "text/x-python",
   "name": "python",
   "nbconvert_exporter": "python",
   "pygments_lexer": "ipython3",
   "version": "3.11.5"
  }
 },
 "nbformat": 4,
 "nbformat_minor": 5
}
